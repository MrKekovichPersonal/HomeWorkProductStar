{
 "cells": [
  {
   "cell_type": "code",
   "execution_count": 1,
   "outputs": [],
   "source": [
    "import math\n",
    "from typing import Union"
   ],
   "metadata": {
    "collapsed": false,
    "ExecuteTime": {
     "end_time": "2023-09-11T06:35:59.220901600Z",
     "start_time": "2023-09-11T06:35:59.212781700Z"
    }
   },
   "id": "3951e0316b12fa2"
  },
  {
   "cell_type": "code",
   "execution_count": 13,
   "outputs": [],
   "source": [
    "def solve_quadratic_equation(a: float,\n",
    "                             b: float,\n",
    "                             c: float) -> Union[None, float, tuple[float, float]]:\n",
    "    \"\"\"\n",
    "    Calculates the solutions to a quadratic equation of the form ax^2 + bx + c = 0.\n",
    "\n",
    "    Args:\n",
    "        a (float): The coefficient of x^2.\n",
    "        b (float): The coefficient of x.\n",
    "        c (float): The constant term.\n",
    "\n",
    "    Returns:\n",
    "        Union[None, float, Tuple[float, float]]: The solutions to the quadratic equation.\n",
    "            - If there are no real solutions, returns None.\n",
    "            - If there is a single real solution, returns the solution as a float.\n",
    "            - If there are two real solutions, returns the solutions as a tuple of floats.\n",
    "    \"\"\"\n",
    "    d = b ** 2 - 4 * a * c\n",
    "    if d < 0:\n",
    "        return None\n",
    "    elif d == 0:\n",
    "        x = -b / (2 * a)\n",
    "        return x\n",
    "    x1 = (-b + math.sqrt(d)) / (2 * a)\n",
    "    x2 = (-b - math.sqrt(d)) / (2 * a)\n",
    "    return x1, x2"
   ],
   "metadata": {
    "collapsed": false,
    "ExecuteTime": {
     "end_time": "2023-09-11T06:42:28.684061300Z",
     "start_time": "2023-09-11T06:42:28.680517900Z"
    }
   },
   "id": "4a792733126cef34"
  },
  {
   "cell_type": "code",
   "execution_count": 14,
   "outputs": [],
   "source": [
    "# Equation: -2x² - 9 - 35 = 0"
   ],
   "metadata": {
    "collapsed": false,
    "ExecuteTime": {
     "end_time": "2023-09-11T06:42:28.987165600Z",
     "start_time": "2023-09-11T06:42:28.982722700Z"
    }
   },
   "id": "98558dafbe155846"
  },
  {
   "cell_type": "code",
   "execution_count": 15,
   "outputs": [
    {
     "name": "stdout",
     "output_type": "stream",
     "text": [
      "(-2.5, 7.0)\n"
     ]
    }
   ],
   "source": [
    "print(solve_quadratic_equation(a=-2, b=9, c=35))  # (-2.5, 7.0)"
   ],
   "metadata": {
    "collapsed": false,
    "ExecuteTime": {
     "end_time": "2023-09-11T06:42:30.324956100Z",
     "start_time": "2023-09-11T06:42:30.318103200Z"
    }
   },
   "id": "8632423e5d9cd41b"
  },
  {
   "cell_type": "code",
   "execution_count": null,
   "outputs": [],
   "source": [],
   "metadata": {
    "collapsed": false
   },
   "id": "e3f2fa973c1e20e0"
  }
 ],
 "metadata": {
  "kernelspec": {
   "display_name": "Python 3",
   "language": "python",
   "name": "python3"
  },
  "language_info": {
   "codemirror_mode": {
    "name": "ipython",
    "version": 2
   },
   "file_extension": ".py",
   "mimetype": "text/x-python",
   "name": "python",
   "nbconvert_exporter": "python",
   "pygments_lexer": "ipython2",
   "version": "2.7.6"
  }
 },
 "nbformat": 4,
 "nbformat_minor": 5
}
