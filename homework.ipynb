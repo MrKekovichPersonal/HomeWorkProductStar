{
 "cells": [
  {
   "cell_type": "markdown",
   "id": "54f578f3-52cb-4a24-aa90-abf969c80b68",
   "metadata": {},
   "source": [
    "## Описание колонок\n",
    "\n",
    "`Rank` - Общий рейтинг продаж\n",
    "\n",
    "`Name` - Название игры\n",
    "\n",
    "`Platform` - Платформа, на которой выпущена игра (например, PC, PS4 и т.д.)\n",
    "\n",
    "`Year` - Год выпуска игры\n",
    "\n",
    "`Genre` - Жанр игры\n",
    "\n",
    "`Publisher` - Издатель игры\n",
    "\n",
    "`NA_Sales` - Продажи в Северной Америке (в миллионах)\n",
    "\n",
    "`EU_Sales` - Продажи в Европе (в миллионах)\n",
    "\n",
    "`JP_Sales` - Продажи в Японии (в миллионах)\n",
    "\n",
    "`Other_Sales` - Продажи в остальном мире (в миллионах)\n",
    "\n",
    "`Global_Sales` - Общемировые продажи."
   ]
  },
  {
   "cell_type": "code",
   "execution_count": 78,
   "id": "59bc965d-2d42-4fcd-9da9-2a12724b65ed",
   "metadata": {
    "ExecuteTime": {
     "end_time": "2023-09-13T07:58:39.249637600Z",
     "start_time": "2023-09-13T07:58:39.179077800Z"
    }
   },
   "outputs": [
    {
     "data": {
      "text/plain": "   Rank                      Name Platform    Year         Genre Publisher  \\\n0     1                Wii Sports      Wii  2006.0        Sports  Nintendo   \n1     2         Super Mario Bros.      NES  1985.0      Platform  Nintendo   \n2     3            Mario Kart Wii      Wii  2008.0        Racing  Nintendo   \n3     4         Wii Sports Resort      Wii  2009.0        Sports  Nintendo   \n4     5  Pokemon Red/Pokemon Blue       GB  1996.0  Role-Playing  Nintendo   \n\n   NA_Sales  EU_Sales  JP_Sales  Other_Sales  Global_Sales  \n0     41.49     29.02      3.77         8.46         82.74  \n1     29.08      3.58      6.81         0.77         40.24  \n2     15.85     12.88      3.79         3.31         35.82  \n3     15.75     11.01      3.28         2.96         33.00  \n4     11.27      8.89     10.22         1.00         31.37  ",
      "text/html": "<div>\n<style scoped>\n    .dataframe tbody tr th:only-of-type {\n        vertical-align: middle;\n    }\n\n    .dataframe tbody tr th {\n        vertical-align: top;\n    }\n\n    .dataframe thead th {\n        text-align: right;\n    }\n</style>\n<table border=\"1\" class=\"dataframe\">\n  <thead>\n    <tr style=\"text-align: right;\">\n      <th></th>\n      <th>Rank</th>\n      <th>Name</th>\n      <th>Platform</th>\n      <th>Year</th>\n      <th>Genre</th>\n      <th>Publisher</th>\n      <th>NA_Sales</th>\n      <th>EU_Sales</th>\n      <th>JP_Sales</th>\n      <th>Other_Sales</th>\n      <th>Global_Sales</th>\n    </tr>\n  </thead>\n  <tbody>\n    <tr>\n      <th>0</th>\n      <td>1</td>\n      <td>Wii Sports</td>\n      <td>Wii</td>\n      <td>2006.0</td>\n      <td>Sports</td>\n      <td>Nintendo</td>\n      <td>41.49</td>\n      <td>29.02</td>\n      <td>3.77</td>\n      <td>8.46</td>\n      <td>82.74</td>\n    </tr>\n    <tr>\n      <th>1</th>\n      <td>2</td>\n      <td>Super Mario Bros.</td>\n      <td>NES</td>\n      <td>1985.0</td>\n      <td>Platform</td>\n      <td>Nintendo</td>\n      <td>29.08</td>\n      <td>3.58</td>\n      <td>6.81</td>\n      <td>0.77</td>\n      <td>40.24</td>\n    </tr>\n    <tr>\n      <th>2</th>\n      <td>3</td>\n      <td>Mario Kart Wii</td>\n      <td>Wii</td>\n      <td>2008.0</td>\n      <td>Racing</td>\n      <td>Nintendo</td>\n      <td>15.85</td>\n      <td>12.88</td>\n      <td>3.79</td>\n      <td>3.31</td>\n      <td>35.82</td>\n    </tr>\n    <tr>\n      <th>3</th>\n      <td>4</td>\n      <td>Wii Sports Resort</td>\n      <td>Wii</td>\n      <td>2009.0</td>\n      <td>Sports</td>\n      <td>Nintendo</td>\n      <td>15.75</td>\n      <td>11.01</td>\n      <td>3.28</td>\n      <td>2.96</td>\n      <td>33.00</td>\n    </tr>\n    <tr>\n      <th>4</th>\n      <td>5</td>\n      <td>Pokemon Red/Pokemon Blue</td>\n      <td>GB</td>\n      <td>1996.0</td>\n      <td>Role-Playing</td>\n      <td>Nintendo</td>\n      <td>11.27</td>\n      <td>8.89</td>\n      <td>10.22</td>\n      <td>1.00</td>\n      <td>31.37</td>\n    </tr>\n  </tbody>\n</table>\n</div>"
     },
     "execution_count": 78,
     "metadata": {},
     "output_type": "execute_result"
    }
   ],
   "source": [
    "import pandas as pd\n",
    "\n",
    "# загрузите датасет\n",
    "df = pd.read_csv(\"vgsales.csv\")  # ваш код здесь\n",
    "\n",
    "# после того датасет корректно загрузился, можно посмотреть на данные глазами\n",
    "df.head()"
   ]
  },
  {
   "cell_type": "markdown",
   "id": "f93e6f75-3421-43a7-bdd2-3f3ee5d4e1e3",
   "metadata": {},
   "source": [
    "### Дальше идут вопросы по датасету, на которые нужно найти ответ используя функционал библиотеки Pandas."
   ]
  },
  {
   "cell_type": "markdown",
   "id": "a71de13a-bf5f-48d5-8e9d-18332a5835b9",
   "metadata": {},
   "source": [
    "Вопрос 1: Найдите количество уникальных игр в датасете.\n",
    "Ответ: 11325\n",
    "\n",
    "*note*: обратите внимание на функции unique, nunique в Pandas\n",
    "\n",
    "оригинал - https://pandas.pydata.org/docs/reference/api/pandas.unique.html\n",
    "\n",
    "на русском - https://runebook.dev/ru/docs/pandas/reference/api/pandas.unique"
   ]
  },
  {
   "cell_type": "code",
   "execution_count": 79,
   "id": "d43ca067-8dba-47ce-a52c-a0a866438ce8",
   "metadata": {
    "ExecuteTime": {
     "end_time": "2023-09-13T07:58:39.249637600Z",
     "start_time": "2023-09-13T07:58:39.214625600Z"
    }
   },
   "outputs": [
    {
     "data": {
      "text/plain": "(11325, 16291)"
     },
     "execution_count": 79,
     "metadata": {},
     "output_type": "execute_result"
    }
   ],
   "source": [
    "# ваш код здесь\n",
    "# Drop entities with N/A\n",
    "df_clean = df.dropna().copy()\n",
    "# Show the length of unique Names and compare it to non-unique Names\n",
    "len(pd.unique(df_clean[\"Name\"])), len(df_clean[\"Name\"])  # Unique names: 11325"
   ]
  },
  {
   "cell_type": "markdown",
   "id": "fa8025a5-b6bb-4eec-92cd-a341b583e46f",
   "metadata": {},
   "source": [
    "Вопрос 2: Какова общая величина продаж игр в Японии?\n",
    "Ответ: 1284.2699999999031"
   ]
  },
  {
   "cell_type": "code",
   "execution_count": 80,
   "id": "04440e2c-65cb-4ded-abd8-0b695fc68811",
   "metadata": {
    "ExecuteTime": {
     "end_time": "2023-09-13T07:58:39.250637700Z",
     "start_time": "2023-09-13T07:58:39.227214800Z"
    }
   },
   "outputs": [
    {
     "data": {
      "text/plain": "1284.2699999999031"
     },
     "execution_count": 80,
     "metadata": {},
     "output_type": "execute_result"
    }
   ],
   "source": [
    "# ваш код здесь\n",
    "sum(df_clean.JP_Sales)  # 1284.2699999999031"
   ]
  },
  {
   "cell_type": "markdown",
   "id": "a2262e1d-9b80-4ac0-852c-9bb0d567bff0",
   "metadata": {},
   "source": [
    "Вопрос 3: Какие три жанра игр самые популярные в Северной Америке (по количеству продаж)? \n",
    "Ответ: 1: Action, 2: Sports, 3: Shooter"
   ]
  },
  {
   "cell_type": "code",
   "execution_count": 81,
   "id": "8b9e27f2-98d2-40c6-95ab-1d9a8e1a082f",
   "metadata": {
    "ExecuteTime": {
     "end_time": "2023-09-13T07:58:39.251638600Z",
     "start_time": "2023-09-13T07:58:39.235942300Z"
    }
   },
   "outputs": [
    {
     "data": {
      "text/plain": "Genre\nAction          861.77\nAdventure       101.93\nFighting        220.74\nMisc            396.92\nPlatform        445.99\nPuzzle          122.01\nRacing          356.93\nRole-Playing    326.50\nShooter         575.16\nSimulation      181.78\nSports          670.09\nStrategy         67.83\nName: NA_Sales, dtype: float64"
     },
     "execution_count": 81,
     "metadata": {},
     "output_type": "execute_result"
    }
   ],
   "source": [
    "# ваш код здесь\n",
    "df_clean.groupby(\"Genre\")[\"NA_Sales\"].sum()\n",
    "# Action\n",
    "# Sports\n",
    "# Shooter"
   ]
  },
  {
   "cell_type": "markdown",
   "id": "4b880d2e-3b2a-4516-a11b-3fac6649519c",
   "metadata": {},
   "source": [
    "Вопрос 4: Какая платформа была самой популярной (по количеству выпущенных игр) в 2000 году? А в 2015?\n",
    "Ответ: 2000 - PS, 159 (игр) 2015 - PS4, 137 (игр)"
   ]
  },
  {
   "cell_type": "code",
   "execution_count": 82,
   "id": "8d4ce573-99fe-401d-9514-7f3b44823417",
   "metadata": {
    "ExecuteTime": {
     "end_time": "2023-09-13T07:58:39.251638600Z",
     "start_time": "2023-09-13T07:58:39.242450700Z"
    }
   },
   "outputs": [
    {
     "data": {
      "text/plain": "Platform\n3DS      86\nPC       50\nPS3      74\nPS4     137\nPSP       3\nPSV     113\nWii       4\nWiiU     28\nX360     40\nXOne     79\nName: Name, dtype: int64"
     },
     "execution_count": 82,
     "metadata": {},
     "output_type": "execute_result"
    }
   ],
   "source": [
    "# ваш код здесь\n",
    "# Choose data for 2000 year\n",
    "df_clean_2000s = df_clean[(df_clean[\"Year\"] == 2000)]\n",
    "# Choose data for 2015 year\n",
    "df_clean_2015s = df_clean[(df_clean[\"Year\"] == 2015)]\n",
    "# Group by platform and count how many games it has\n",
    "df_clean_2000s.groupby(\"Platform\")[\"Name\"].count() # PS, 159\n",
    "df_clean_2015s.groupby(\"Platform\")[\"Name\"].count() # PS4, 137"
   ]
  },
  {
   "cell_type": "markdown",
   "id": "8793a5ae-b540-4cc3-b45b-154f43215a10",
   "metadata": {},
   "source": [
    "Вопрос 5: Какой издатель выпустил больше всего игр в период 2012-2015 оба конца включительно?\n",
    "Ответ: Namco Bandai Games: 206 (игр)"
   ]
  },
  {
   "cell_type": "code",
   "execution_count": 83,
   "id": "5ee597b8-819c-4e8d-a101-2ddd971cd5fe",
   "metadata": {
    "ExecuteTime": {
     "end_time": "2023-09-13T07:58:39.302854Z",
     "start_time": "2023-09-13T07:58:39.251638600Z"
    }
   },
   "outputs": [
    {
     "data": {
      "text/plain": "Publisher\n505 Games             9\n5pb                  20\nASCII Media Works     1\nAckkstudios           5\nAcquire               2\n                     ..\nYacht Club Games      1\nYeti                  1\ndramatic create       3\nimageepoch Inc.       2\nmixi, Inc             1\nName: Name, Length: 161, dtype: int64"
     },
     "execution_count": 83,
     "metadata": {},
     "output_type": "execute_result"
    }
   ],
   "source": [
    "# ваш код здесь\n",
    "# Transform from the year column float to date\n",
    "df_clean[\"Year\"] = pd.to_datetime(df_clean[\"Year\"], format=\"%Y\")  \n",
    "# Choose years between 2012-2015 (including both ends)\n",
    "years_between_2012_2015 = df_clean[df_clean[\"Year\"].between(\"2012\", \"2015\")]  \n",
    "# Remove duplicates. GTA V for PS3 is the same GTA V for PS4\n",
    "years_between_2012_2015_unique_names = years_between_2012_2015.drop_duplicates(subset=[\"Name\"])  # \n",
    "# Group by Publisher and count each Publisher's games\n",
    "years_between_2012_2015_unique_names.groupby(\"Publisher\")[\"Name\"].count()\n",
    "# Namco Bandai Games: 206"
   ]
  },
  {
   "cell_type": "markdown",
   "id": "d86e2a2b-f244-4e56-996c-457909f910ef",
   "metadata": {},
   "source": [
    "Вопрос 6: Какой процент игр в жанре спорт был продан в Европе?\n",
    "Ответ: 28.363019767193176"
   ]
  },
  {
   "cell_type": "code",
   "execution_count": 84,
   "id": "d4dcc386-d377-434d-9270-d24a061f233b",
   "metadata": {
    "ExecuteTime": {
     "end_time": "2023-09-13T07:58:39.324993600Z",
     "start_time": "2023-09-13T07:58:39.265962600Z"
    }
   },
   "outputs": [
    {
     "data": {
      "text/plain": "28.363019767193176"
     },
     "execution_count": 84,
     "metadata": {},
     "output_type": "execute_result"
    }
   ],
   "source": [
    "# ваш код здесь\n",
    "# Choose only Sports genre\n",
    "df_clean_sports = df_clean[df_clean[\"Genre\"] == \"Sports\"]\n",
    "# Sum all sales within Europe\n",
    "europe = df_clean_sports[\"EU_Sales\"].sum()\n",
    "# Sum all sales in global scale (every country)\n",
    "all_countries = df_clean_sports[\"Global_Sales\"].sum()\n",
    "# Find what percent Europe takes\n",
    "(europe / all_countries) * 100 # 28.363019767193176 %"
   ]
  }
 ],
 "metadata": {
  "kernelspec": {
   "display_name": "Python 3",
   "language": "python",
   "name": "python3"
  },
  "language_info": {
   "codemirror_mode": {
    "name": "ipython",
    "version": 3
   },
   "file_extension": ".py",
   "mimetype": "text/x-python",
   "name": "python",
   "nbconvert_exporter": "python",
   "pygments_lexer": "ipython3",
   "version": "3.8.8"
  }
 },
 "nbformat": 4,
 "nbformat_minor": 5
}
