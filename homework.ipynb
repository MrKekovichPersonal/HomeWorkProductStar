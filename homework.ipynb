{
 "cells": [
  {
   "cell_type": "code",
   "execution_count": 26,
   "id": "initial_id",
   "metadata": {
    "collapsed": true,
    "ExecuteTime": {
     "end_time": "2023-09-14T11:25:13.817974600Z",
     "start_time": "2023-09-14T11:25:13.813962100Z"
    }
   },
   "outputs": [],
   "source": [
    "from abc import ABC, abstractmethod\n",
    "\n",
    "\n",
    "class Pet(ABC):\n",
    "    def __init__(self, name, species, age, gender):\n",
    "        self._name = name\n",
    "        self._species = species\n",
    "        self._age = age\n",
    "        self._gender = gender\n",
    "    \n",
    "    @abstractmethod\n",
    "    def get_info(self) -> dict:\n",
    "        info = {\n",
    "            \"name\": self._name,\n",
    "            \"species\": self._species,\n",
    "            \"age\": self._age,\n",
    "            \"gender\": self._gender,\n",
    "        }\n",
    "        return info\n",
    "\n",
    "\n",
    "class Dog(Pet):\n",
    "    def __init__(self, breed, **kwargs):\n",
    "        super().__init__(species=\"Dog\", **kwargs)\n",
    "        self._breed = breed \n",
    "\n",
    "    def get_info(self):\n",
    "        info = {\n",
    "            **super().get_info(),\n",
    "            \"breed\": self._breed\n",
    "        }\n",
    "        print(info)\n",
    "        return info\n",
    "\n",
    "    def bark(self):\n",
    "        print(\"Woof! Woof!\")\n",
    "        \n",
    "        \n",
    "class Cat(Pet):\n",
    "    def __init__(self, color, **kwargs):\n",
    "        super().__init__(species=\"Cat\", **kwargs)\n",
    "        self._color = color\n",
    "\n",
    "    def get_info(self):\n",
    "        info = {\n",
    "            **super().get_info(),\n",
    "            \"color\": self._color\n",
    "        }\n",
    "        print(info)\n",
    "        return info\n",
    "    \n",
    "    def meow(self):\n",
    "        print(\"Meow! Meow!\")\n",
    "        "
   ]
  },
  {
   "cell_type": "code",
   "execution_count": 27,
   "outputs": [],
   "source": [
    "pets = {\"cat\": Cat(color=\"Black\", name=\"Fluffy\", gender=\"Female\", age=1),\n",
    "        \"dog\": Dog(breed=\"Bulldog\", name=\"Costello\", gender=\"Male\", age=2)}"
   ],
   "metadata": {
    "collapsed": false,
    "ExecuteTime": {
     "end_time": "2023-09-14T11:25:14.689519Z",
     "start_time": "2023-09-14T11:25:14.686002900Z"
    }
   },
   "id": "dbf03cbb068d905"
  },
  {
   "cell_type": "code",
   "execution_count": 28,
   "outputs": [
    {
     "name": "stdout",
     "output_type": "stream",
     "text": [
      "{'name': 'Fluffy', 'species': 'Cat', 'age': 1, 'gender': 'Female', 'color': 'Black'}\n",
      "{'name': 'Costello', 'species': 'Dog', 'age': 2, 'gender': 'Male', 'breed': 'Bulldog'}\n",
      "Meow! Meow!\n",
      "Woof! Woof!\n"
     ]
    }
   ],
   "source": [
    "for pet in pets.values():\n",
    "    pet.get_info()\n",
    "    \n",
    "pets[\"cat\"].meow()\n",
    "pets[\"dog\"].bark()"
   ],
   "metadata": {
    "collapsed": false,
    "ExecuteTime": {
     "end_time": "2023-09-14T11:25:15.113005100Z",
     "start_time": "2023-09-14T11:25:15.109538800Z"
    }
   },
   "id": "c1c8fd0838bc450a"
  },
  {
   "cell_type": "code",
   "execution_count": 29,
   "outputs": [
    {
     "ename": "TypeError",
     "evalue": "Can't instantiate abstract class Pet with abstract method get_info",
     "output_type": "error",
     "traceback": [
      "\u001B[1;31m---------------------------------------------------------------------------\u001B[0m",
      "\u001B[1;31mTypeError\u001B[0m                                 Traceback (most recent call last)",
      "Cell \u001B[1;32mIn[29], line 1\u001B[0m\n\u001B[1;32m----> 1\u001B[0m \u001B[43mPet\u001B[49m\u001B[43m(\u001B[49m\u001B[38;5;124;43m\"\u001B[39;49m\u001B[38;5;124;43mcan\u001B[39;49m\u001B[38;5;124;43m'\u001B[39;49m\u001B[38;5;124;43mt\u001B[39;49m\u001B[38;5;124;43m\"\u001B[39;49m\u001B[43m,\u001B[49m\u001B[43m \u001B[49m\u001B[38;5;124;43m\"\u001B[39;49m\u001B[38;5;124;43minstantiate\u001B[39;49m\u001B[38;5;124;43m\"\u001B[39;49m\u001B[43m,\u001B[49m\u001B[43m \u001B[49m\u001B[38;5;124;43m\"\u001B[39;49m\u001B[38;5;124;43mclass\u001B[39;49m\u001B[38;5;124;43m\"\u001B[39;49m\u001B[43m,\u001B[49m\u001B[43m \u001B[49m\u001B[38;5;124;43m\"\u001B[39;49m\u001B[38;5;124;43mwith unimplemented abstractmethod\u001B[39;49m\u001B[38;5;124;43m\"\u001B[39;49m\u001B[43m)\u001B[49m\n",
      "\u001B[1;31mTypeError\u001B[0m: Can't instantiate abstract class Pet with abstract method get_info"
     ]
    }
   ],
   "source": [
    "Pet(\"can't\", \"instantiate\", \"class\", \"with unimplemented abstractmethod\")"
   ],
   "metadata": {
    "collapsed": false,
    "ExecuteTime": {
     "end_time": "2023-09-14T11:25:15.846378800Z",
     "start_time": "2023-09-14T11:25:15.832961600Z"
    }
   },
   "id": "ddefa222fd078cf0"
  },
  {
   "cell_type": "code",
   "execution_count": null,
   "outputs": [],
   "source": [],
   "metadata": {
    "collapsed": false
   },
   "id": "c9db0696ddf22e4"
  }
 ],
 "metadata": {
  "kernelspec": {
   "display_name": "Python 3",
   "language": "python",
   "name": "python3"
  },
  "language_info": {
   "codemirror_mode": {
    "name": "ipython",
    "version": 2
   },
   "file_extension": ".py",
   "mimetype": "text/x-python",
   "name": "python",
   "nbconvert_exporter": "python",
   "pygments_lexer": "ipython2",
   "version": "2.7.6"
  }
 },
 "nbformat": 4,
 "nbformat_minor": 5
}
